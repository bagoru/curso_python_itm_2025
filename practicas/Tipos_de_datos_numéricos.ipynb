{
  "nbformat": 4,
  "nbformat_minor": 0,
  "metadata": {
    "colab": {
      "provenance": []
    },
    "kernelspec": {
      "name": "python3",
      "display_name": "Python 3"
    },
    "language_info": {
      "name": "python"
    }
  },
  "cells": [
    {
      "cell_type": "markdown",
      "source": [
        "# Aplicaciones web con Python\n",
        "\n",
        "## Tipos de datos numéricos\n",
        "\n",
        "### 2005 - Instituto Tecnológico de Mexicali"
      ],
      "metadata": {
        "id": "ssPXOqsaSOA3"
      }
    },
    {
      "cell_type": "markdown",
      "source": [
        "# Tipos de datos numéricos en Python\n",
        "\n",
        "* **Entero**\n",
        "  * Booleano\n",
        "  * Octal\n",
        "  * Hexadecimal\n",
        "  * Binario\n",
        "* **Coma flotante**\n",
        "  * Numeros complejos\n",
        "\n",
        "---\n",
        "\n",
        "# Tipos de datos básicos: **números enteros**\n",
        "\n",
        "## int"
      ],
      "metadata": {
        "id": "DLGaaIXcSTnd"
      }
    },
    {
      "cell_type": "code",
      "source": [
        "100 == int(100)"
      ],
      "metadata": {
        "colab": {
          "base_uri": "https://localhost:8080/"
        },
        "id": "NPwEmZxrSYcX",
        "outputId": "07360faf-c26a-4e9e-ffc5-64ae5b64611e"
      },
      "execution_count": 1,
      "outputs": [
        {
          "output_type": "execute_result",
          "data": {
            "text/plain": [
              "True"
            ]
          },
          "metadata": {},
          "execution_count": 1
        }
      ]
    },
    {
      "cell_type": "markdown",
      "source": [
        "# Tipos de datos básicos: **`bool`**"
      ],
      "metadata": {
        "id": "eNspYDUgSotB"
      }
    },
    {
      "cell_type": "code",
      "source": [
        "True == bool(True) == 1"
      ],
      "metadata": {
        "colab": {
          "base_uri": "https://localhost:8080/"
        },
        "id": "bJdnzYCuSpt1",
        "outputId": "99308791-2b29-4853-c587-53d25ff30860"
      },
      "execution_count": 2,
      "outputs": [
        {
          "output_type": "execute_result",
          "data": {
            "text/plain": [
              "True"
            ]
          },
          "metadata": {},
          "execution_count": 2
        }
      ]
    },
    {
      "cell_type": "code",
      "source": [
        "True == bool(False) == bool(0)"
      ],
      "metadata": {
        "colab": {
          "base_uri": "https://localhost:8080/"
        },
        "id": "cfnKl89RSswP",
        "outputId": "79ea4e13-dddf-4cfa-af6a-7dcc2c9d5001"
      },
      "execution_count": 3,
      "outputs": [
        {
          "output_type": "execute_result",
          "data": {
            "text/plain": [
              "False"
            ]
          },
          "metadata": {},
          "execution_count": 3
        }
      ]
    },
    {
      "cell_type": "markdown",
      "source": [
        "> **Nota**: El intérprete de Python representa internamente a los números booleanos como `0` (`False`) o `1` (`True`).\n",
        "\n",
        "---"
      ],
      "metadata": {
        "id": "eW1Jm4dpS2zQ"
      }
    },
    {
      "cell_type": "markdown",
      "source": [
        "# Tipos de datos básicos: **`oct`**"
      ],
      "metadata": {
        "id": "qkUwZ1eHS_7s"
      }
    },
    {
      "cell_type": "code",
      "source": [
        "0o10 == 0O10"
      ],
      "metadata": {
        "colab": {
          "base_uri": "https://localhost:8080/"
        },
        "id": "_XBR6H0ATAYK",
        "outputId": "1bb81bdf-fc4b-4b34-cbfc-88d3cd94011f"
      },
      "execution_count": 4,
      "outputs": [
        {
          "output_type": "execute_result",
          "data": {
            "text/plain": [
              "True"
            ]
          },
          "metadata": {},
          "execution_count": 4
        }
      ]
    },
    {
      "cell_type": "code",
      "source": [
        "10 == 10.0 == 0o12"
      ],
      "metadata": {
        "colab": {
          "base_uri": "https://localhost:8080/"
        },
        "id": "Y_7YrDrCTDXb",
        "outputId": "222922d7-1914-4e28-aa2d-261fe281cf67"
      },
      "execution_count": 5,
      "outputs": [
        {
          "output_type": "execute_result",
          "data": {
            "text/plain": [
              "True"
            ]
          },
          "metadata": {},
          "execution_count": 5
        }
      ]
    },
    {
      "cell_type": "markdown",
      "source": [
        "> **Nota**: El intérprete de Python representa internamente a los números `oct` como enteros.\n",
        "\n",
        "---"
      ],
      "metadata": {
        "id": "j_bNTf6qTIhD"
      }
    },
    {
      "cell_type": "markdown",
      "source": [
        "# Tipos de datos básicos: **`hex`**"
      ],
      "metadata": {
        "id": "sRqHGmSkTPTx"
      }
    },
    {
      "cell_type": "code",
      "source": [
        "0x0a == 0x0A == 0X0a == 0X0A"
      ],
      "metadata": {
        "colab": {
          "base_uri": "https://localhost:8080/"
        },
        "id": "xISKvkNoTSwT",
        "outputId": "3c1cebd1-1255-418d-8a95-6175120050eb"
      },
      "execution_count": 7,
      "outputs": [
        {
          "output_type": "execute_result",
          "data": {
            "text/plain": [
              "True"
            ]
          },
          "metadata": {},
          "execution_count": 7
        }
      ]
    },
    {
      "cell_type": "code",
      "source": [
        "10 == 10.0 == 0o12 == 0x0a"
      ],
      "metadata": {
        "colab": {
          "base_uri": "https://localhost:8080/"
        },
        "id": "5P4DbLeiTmHR",
        "outputId": "fa802067-011b-4d2a-815f-27ae28e2fda6"
      },
      "execution_count": 8,
      "outputs": [
        {
          "output_type": "execute_result",
          "data": {
            "text/plain": [
              "True"
            ]
          },
          "metadata": {},
          "execution_count": 8
        }
      ]
    },
    {
      "cell_type": "markdown",
      "source": [
        "> **Nota**: El intérprete de Python representa internamente a los números `hex` como enteros.\n",
        "\n",
        "\n",
        "---\n",
        "# Tipos de datos básicos: **`bin`**\n"
      ],
      "metadata": {
        "id": "IZi-cHF1Ts4U"
      }
    },
    {
      "cell_type": "code",
      "source": [
        "0b1010 == 0B1010"
      ],
      "metadata": {
        "colab": {
          "base_uri": "https://localhost:8080/"
        },
        "id": "ckjoTEPDTt5A",
        "outputId": "f280290d-adf0-454a-da02-a358cc31dfe7"
      },
      "execution_count": 9,
      "outputs": [
        {
          "output_type": "execute_result",
          "data": {
            "text/plain": [
              "True"
            ]
          },
          "metadata": {},
          "execution_count": 9
        }
      ]
    },
    {
      "cell_type": "code",
      "source": [
        "10 == 10.0 == 0o12 == 0x0a == 0b1010"
      ],
      "metadata": {
        "colab": {
          "base_uri": "https://localhost:8080/"
        },
        "id": "9N1XVGquTweJ",
        "outputId": "7f7f6e45-8dd7-4b02-895f-6fd966404341"
      },
      "execution_count": 10,
      "outputs": [
        {
          "output_type": "execute_result",
          "data": {
            "text/plain": [
              "True"
            ]
          },
          "metadata": {},
          "execution_count": 10
        }
      ]
    },
    {
      "cell_type": "markdown",
      "source": [
        "\n",
        "---\n",
        "\n",
        "# Tipos de datos básicos: **`float`**"
      ],
      "metadata": {
        "id": "gvuDRGhnT5Gj"
      }
    },
    {
      "cell_type": "code",
      "source": [
        " 100.1 == float (100.1)"
      ],
      "metadata": {
        "colab": {
          "base_uri": "https://localhost:8080/"
        },
        "id": "0OyX3XZzT5pT",
        "outputId": "d6eaade7-a0da-4aeb-e529-db8856bf523c"
      },
      "execution_count": 11,
      "outputs": [
        {
          "output_type": "execute_result",
          "data": {
            "text/plain": [
              "True"
            ]
          },
          "metadata": {},
          "execution_count": 11
        }
      ]
    },
    {
      "cell_type": "code",
      "source": [
        "100.0 == 100"
      ],
      "metadata": {
        "colab": {
          "base_uri": "https://localhost:8080/"
        },
        "id": "q4V-can1T8aV",
        "outputId": "2556781d-1721-4217-ad52-72edcdf26b7c"
      },
      "execution_count": 12,
      "outputs": [
        {
          "output_type": "execute_result",
          "data": {
            "text/plain": [
              "True"
            ]
          },
          "metadata": {},
          "execution_count": 12
        }
      ]
    },
    {
      "cell_type": "markdown",
      "source": [
        "\n",
        "> - Implementados como `double` en `C`\n",
        "> - Los detalles de precisión y representación interna están disponibles en `sys.float_info`\n",
        "\n",
        "---\n",
        "\n",
        "# Tipos de datos básicos: **`sys.float_info`**\n",
        "\n",
        "```python\n",
        ">>> import sys\n",
        ">>> sys.float_info\n",
        "sys.float_info(\n",
        "    max=1.7976931348623157e+308,\n",
        "    max_exp=1024, max_10_exp=308,\n",
        "    min=2.2250738585072014e-308, min_exp=-1021,\n",
        "    min_10_exp=-307, dig=15,\n",
        "    mant_dig=53, epsilon=2.220446049250313e-16,\n",
        "    radix=2, rounds=1\n",
        ")\n",
        ">>>\n",
        "```"
      ],
      "metadata": {
        "id": "_ALFqWQdUGfr"
      }
    },
    {
      "cell_type": "markdown",
      "source": [
        "\n",
        "---\n",
        "\n",
        "# Tipos de datos básicos: **números complejos**"
      ],
      "metadata": {
        "id": "wHd3-MTBURtE"
      }
    },
    {
      "cell_type": "code",
      "source": [
        "1 + 2j == (1 + 2j) == complex(1,2)"
      ],
      "metadata": {
        "colab": {
          "base_uri": "https://localhost:8080/"
        },
        "id": "vFkuJKRCUUXu",
        "outputId": "cc33c59d-edc0-4a00-8e7e-02efe7c6d1bb"
      },
      "execution_count": 13,
      "outputs": [
        {
          "output_type": "execute_result",
          "data": {
            "text/plain": [
              "True"
            ]
          },
          "metadata": {},
          "execution_count": 13
        }
      ]
    },
    {
      "cell_type": "code",
      "source": [
        "10 == 10.0  == 0o12 == 0x0a == (10 +0j)"
      ],
      "metadata": {
        "colab": {
          "base_uri": "https://localhost:8080/"
        },
        "id": "1y72-eKFUbf1",
        "outputId": "9379ce06-e699-45d4-92f1-8ec9aa76f41c"
      },
      "execution_count": 16,
      "outputs": [
        {
          "output_type": "execute_result",
          "data": {
            "text/plain": [
              "True"
            ]
          },
          "metadata": {},
          "execution_count": 16
        }
      ]
    },
    {
      "cell_type": "markdown",
      "source": [
        "> **Nota**: La parte real y la parte imaginaria son `float`\n",
        "\n",
        "\n",
        "---"
      ],
      "metadata": {
        "id": "CWEdQhOMUl-L"
      }
    },
    {
      "cell_type": "code",
      "source": [],
      "metadata": {
        "id": "8QZ2Yit8Umbp"
      },
      "execution_count": null,
      "outputs": []
    }
  ]
}