{
  "cells": [
    {
      "cell_type": "markdown",
      "metadata": {
        "id": "uwWiSCFwAkqg"
      },
      "source": []
    },
    {
      "cell_type": "markdown",
      "metadata": {},
      "source": [
        "<a href=\"https://colab.research.google.com/github/misaelnieto/curso_python_itm_2025/blob/main/05_Tipos_de_datos_nume%CC%81ricos.ipynb\" target=\"_parent\"><img src=\"https://colab.research.google.com/assets/colab-badge.svg\" alt=\"Open In Colab\"/></a>\n"
      ]
    },
    {
      "cell_type": "markdown",
      "metadata": {
        "id": "XF37-SrwAl0R"
      },
      "source": [
        "# Aplicaciones web con Python\n",
        "\n",
        "## Sintaxis básica de Python\n",
        "\n",
        "### 2005 - Instituto Tecnológico de Mexicali\n",
        "\n",
        "# Todo es un objeto\n",
        "\n",
        "- Virtualmente todo es un objeto, con atributos y métodos.\n",
        "- Los números, el texto, las funciones, los módulos, etc.\n",
        "\n",
        "---\n",
        "\n",
        "# Puntos claves de la sintaxis de Python\n",
        "\n",
        "# Sintaxis\n",
        "\n",
        "- ***Identación***: Los bloques de código se delimitan con espacios (generalmente 4) o tabuladores.\n",
        "- Las **sentencias** terminan ***hasta el fin de la línea***. El `;` no es necesario. Las líneas vacías se ignoran.\n",
        "- **Case-sensitive**: Distingue entre mayúsculas y minúsculas\n",
        "- Los ***comentarios*** comienzan con el caracter `#` y terminan hasta el fin de la línea.\n",
        "\n",
        "---\n",
        "\n",
        "# Puntos claves de la sintaxis de Python\n",
        "\n",
        "# Variables\n",
        "\n",
        "- ***Duck typing***: El intérprete *infiere* el tipo de la variable\n",
        "- **Las variables** son *nombres* que apuntan a una instancia de un objeto.\n",
        "- **Reglas**\n",
        "  - Deben comenzar con una letra o `_`\n",
        "  - **No pueden** comenzar con números\n",
        "  - **Deberían** solo contener `A-z`, `0-9` y `_`\n",
        "  - **No pueden** ser igual a alguna de las palabras reservadas\n",
        "\n",
        "---\n",
        "# Palabras reservadas\n",
        "\n",
        "1. Valores booleanos y nulo: `True`, `False` y `None`.\n",
        "2. Operadores lógicos: `and`, `or`, `not`\n",
        "3. Estructuras de control de flujo: `if`, `elif`, `else`, `for`, `while`, `break`, `continue`, `match` y `case`.\n",
        "4. Definición de funciones y clases: `def`, `class`, `return`, `lambda` y `yield`\n",
        "5. Manejo de excepciones: `try`, `except`, `finally`, `raise` y `assert`\n",
        "1. Manejo de contexto: `with`\n",
        "2. Importación de módulos: `import`, `from` y  `as`\n",
        "4. Variables globales y no locales: `global` y `nonlocal`\n",
        "4. Otras palabras reservadas: `del` y `pass`\n",
        "---\n",
        "\n",
        "# Puntos claves de la sintaxis de Python\n",
        "\n",
        "## Operadores\n",
        "- Aritméticos (`+`, `-`, `*`, `/`, `//` (división entera), `%` (módulo), `**` (potencia))\n",
        "- Asignación: (`=`, `+=`, `-=`, `*=`, `/=`, `//=`, `%=`, `**=`)\n",
        "- Comparación (`==`, `!=`, `<`, `>`, `<=`, `>=`)\n",
        "- Lógicos (`and`, `or`, `not`)\n",
        "- Identidad (`is`, `is not`)\n",
        "- Pertenencia (*membership*) (`in`, `not in`)\n",
        "- Nivel de bit (`&`, `|`, `^`, `~`, `<<`, `>>`)\n",
        "- Control de precedencia `()`\n",
        "\n",
        "---\n",
        "\n",
        "# Todo es un objeto\n",
        "\n"
      ]
    },
    {
      "cell_type": "code",
      "execution_count": 17,
      "metadata": {
        "colab": {
          "base_uri": "https://localhost:8080/"
        },
        "id": "HqtXxaXcA1UG",
        "outputId": "a6ce1f2f-81cb-46e6-cfc4-7e31a4396a59"
      },
      "outputs": [
        {
          "data": {
            "text/plain": [
              "['as_integer_ratio',\n",
              " 'bit_count',\n",
              " 'bit_length',\n",
              " 'conjugate',\n",
              " 'denominator',\n",
              " 'from_bytes',\n",
              " 'imag',\n",
              " 'is_integer',\n",
              " 'numerator',\n",
              " 'real',\n",
              " 'to_bytes']"
            ]
          },
          "execution_count": 17,
          "metadata": {},
          "output_type": "execute_result"
        }
      ],
      "source": [
        "a=1\n",
        "dir(a)\n",
        "['as_integer_ratio', 'bit_count', 'bit_length', 'conjugate',\n",
        "'denominator', 'from_bytes', 'imag', 'is_integer', 'numerator',\n",
        "'real', 'to_bytes']\n"
      ]
    },
    {
      "cell_type": "code",
      "execution_count": 18,
      "metadata": {
        "colab": {
          "base_uri": "https://localhost:8080/"
        },
        "id": "cT5gOdWhBbb8",
        "outputId": "2f2fcb7b-6922-492d-af53-1d53a80aac5a"
      },
      "outputs": [
        {
          "data": {
            "text/plain": [
              "['as_integer_ratio',\n",
              " 'conjugate',\n",
              " 'fromhex',\n",
              " 'hex',\n",
              " 'imag',\n",
              " 'is_integer',\n",
              " 'real']"
            ]
          },
          "execution_count": 18,
          "metadata": {},
          "output_type": "execute_result"
        }
      ],
      "source": [
        "a=3.1416\n",
        "dir(a)\n",
        "['as_integer_ratio', 'conjugate', 'fromhex', 'hex', 'imag', 'is_integer', 'real']"
      ]
    },
    {
      "cell_type": "code",
      "execution_count": 19,
      "metadata": {
        "colab": {
          "base_uri": "https://localhost:8080/"
        },
        "id": "N3yaTfkGBcLF",
        "outputId": "d30e27b7-fccb-47f7-9834-248d2426490d"
      },
      "outputs": [
        {
          "data": {
            "text/plain": [
              "['capitalize', 'casefold', 'center', 'count', 'zfill']"
            ]
          },
          "execution_count": 19,
          "metadata": {},
          "output_type": "execute_result"
        }
      ],
      "source": [
        "a='Hola'\n",
        "dir(a)\n",
        "[  'capitalize', 'casefold', 'center', 'count',  'zfill']"
      ]
    },
    {
      "cell_type": "markdown",
      "metadata": {
        "id": "3vRiodE2BxdR"
      },
      "source": [
        "---\n",
        "\n",
        "# Indentación con espacios\n",
        "\n",
        "```python\n",
        "if condicion:\n",
        "    # Código dentro del bloque if (indentado)\n",
        "    print(\"Condición verdadera\")\n",
        "else:\n",
        "    # Código dentro del bloque else (indentado)\n",
        "    print(\"Condición falsa\")\n",
        "```"
      ]
    },
    {
      "cell_type": "code",
      "execution_count": 1,
      "metadata": {
        "id": "fjITZsfZCTFm"
      },
      "outputs": [],
      "source": [
        "def suma():\n",
        "    return 1 + 1\n",
        "\n",
        "def multiplica(a, b):\n",
        "    return a * b"
      ]
    },
    {
      "cell_type": "code",
      "execution_count": 21,
      "metadata": {
        "colab": {
          "base_uri": "https://localhost:8080/"
        },
        "id": "uLwKnnR3CXoO",
        "outputId": "a0b905cb-fbbd-432c-8009-ed2c82ebeae5"
      },
      "outputs": [
        {
          "data": {
            "text/plain": [
              "2"
            ]
          },
          "execution_count": 21,
          "metadata": {},
          "output_type": "execute_result"
        }
      ],
      "source": [
        "suma()"
      ]
    },
    {
      "cell_type": "code",
      "execution_count": 22,
      "metadata": {
        "colab": {
          "base_uri": "https://localhost:8080/"
        },
        "id": "TkbtDKf8CZVc",
        "outputId": "2a574633-3a6e-4fa0-f891-15cc853a54ba"
      },
      "outputs": [
        {
          "data": {
            "text/plain": [
              "4"
            ]
          },
          "execution_count": 22,
          "metadata": {},
          "output_type": "execute_result"
        }
      ],
      "source": [
        "multiplica(2,2)"
      ]
    },
    {
      "cell_type": "markdown",
      "metadata": {
        "id": "WsjOhhLpCjFF"
      },
      "source": [
        "---\n",
        "\n",
        "# Indentación con espacios\n",
        "\n",
        "\n",
        "```python\n",
        "for i in range(10):\n",
        "    print(i)\n",
        "\n",
        "\n",
        "c = 10\n",
        "while c:\n",
        "    print(c)\n",
        "    c -= 1\n",
        "\n",
        "```"
      ]
    },
    {
      "cell_type": "code",
      "execution_count": 14,
      "metadata": {
        "colab": {
          "base_uri": "https://localhost:8080/"
        },
        "id": "TheL2ZUOClfP",
        "outputId": "dc47c794-70e7-42fc-98d0-9e439fb6ab45"
      },
      "outputs": [
        {
          "name": "stdout",
          "output_type": "stream",
          "text": [
            "0\n",
            "1\n",
            "2\n",
            "3\n",
            "4\n",
            "5\n",
            "6\n",
            "7\n",
            "8\n",
            "9\n"
          ]
        }
      ],
      "source": [
        "for i in range(10):\n",
        "    print(i)"
      ]
    },
    {
      "cell_type": "code",
      "execution_count": 16,
      "metadata": {
        "colab": {
          "base_uri": "https://localhost:8080/"
        },
        "id": "ScKpQPfcCp5O",
        "outputId": "6ef2fb43-6be4-4a92-f96a-1f01ff0dc878"
      },
      "outputs": [
        {
          "name": "stdout",
          "output_type": "stream",
          "text": [
            "10\n",
            "9\n",
            "8\n",
            "7\n",
            "6\n",
            "5\n",
            "4\n",
            "3\n",
            "2\n",
            "1\n"
          ]
        }
      ],
      "source": [
        "c = 10\n",
        "while c:\n",
        "    print(c)\n",
        "    c -= 1"
      ]
    },
    {
      "cell_type": "markdown",
      "metadata": {
        "id": "4jfdRtppLqcQ"
      },
      "source": [
        "```python\n",
        "\n",
        "class Animal:\n",
        "    sonido = \"...\"\n",
        "    def habla(self):\n",
        "        print(self.sonido)\n",
        "\n",
        "class Pollito(Animal):\n",
        "    sonido = \"Pio\"\n",
        "    def picotea(self):\n",
        "        pass\n",
        "\n",
        "class Gato(Animal):\n",
        "    sonido = \"Miau\"\n",
        "\n",
        "    def salta(self):\n",
        "        pass\n",
        "\n",
        "```"
      ]
    },
    {
      "cell_type": "code",
      "execution_count": 24,
      "metadata": {
        "id": "HTO2nwIYLulN"
      },
      "outputs": [],
      "source": [
        "class Animal:\n",
        "    sonido = \"...\"\n",
        "    def habla(self):\n",
        "        print(self.sonido)\n",
        "\n",
        "class Pollito(Animal):\n",
        "    sonido = \"Pio\"\n",
        "    def picotea(self):\n",
        "        pass\n",
        "\n",
        "class Gato(Animal):\n",
        "    sonido = \"Miau\"\n",
        "\n",
        "    def salta(self):\n",
        "        pass\n"
      ]
    },
    {
      "cell_type": "code",
      "execution_count": 27,
      "metadata": {
        "colab": {
          "base_uri": "https://localhost:8080/"
        },
        "id": "7UkJwbGiLyig",
        "outputId": "73aed7ce-6a47-41f2-bce6-a1b074a6350b"
      },
      "outputs": [
        {
          "name": "stdout",
          "output_type": "stream",
          "text": [
            "Pio\n"
          ]
        }
      ],
      "source": [
        " piolin = Pollito()\n",
        " piolin.habla()\n",
        "\n",
        " piolin.picotea()"
      ]
    },
    {
      "cell_type": "code",
      "execution_count": 29,
      "metadata": {
        "colab": {
          "base_uri": "https://localhost:8080/"
        },
        "id": "zy0zhqHNPV6D",
        "outputId": "653cb80f-bebe-4ab8-fc6d-47e94c0c767d"
      },
      "outputs": [
        {
          "name": "stdout",
          "output_type": "stream",
          "text": [
            "Miau\n"
          ]
        }
      ],
      "source": [
        "benito=Gato()\n",
        "benito.habla()\n",
        "\n",
        "benito.salta()"
      ]
    },
    {
      "cell_type": "markdown",
      "metadata": {
        "id": "BHbGp0KJQFDk"
      },
      "source": [
        "---\n",
        "\n",
        "# Las sentencias terminan al final de la línea\n",
        "\n",
        "Las sentencias generalmente terminan al final de la línea. No se usa punto y coma `;` al final de cada línea, aunque se puede usar para separar múltiples sentencias en una misma línea (no es recomendable)."
      ]
    },
    {
      "cell_type": "code",
      "execution_count": 30,
      "metadata": {
        "colab": {
          "base_uri": "https://localhost:8080/"
        },
        "id": "esSQPRMBQIQi",
        "outputId": "9b87892f-b791-42a8-97fe-ceb1a142f8d3"
      },
      "outputs": [
        {
          "name": "stdout",
          "output_type": "stream",
          "text": [
            "Hola mundo\n",
            "15\n"
          ]
        }
      ],
      "source": [
        "el_mundo_es_plano = True\n",
        "dos_mas_dos = 5\n",
        "print(\"Hola mundo\")\n",
        "a = 5; b = 10; print(a + b) # Múltiples sentencias en una línea (no recomendable)"
      ]
    },
    {
      "cell_type": "markdown",
      "metadata": {
        "id": "TL69KQ2nQVuk"
      },
      "source": [
        "---\n",
        "\n",
        "# Distinción entre mayúsculas y minúsculas\n",
        "\n",
        "Python es sensible a mayúsculas y minúsculas (case-sensitive). `Variable`, `variable` y `VARIABLE` son tres identificadores diferentes."
      ]
    },
    {
      "cell_type": "code",
      "execution_count": null,
      "metadata": {
        "id": "VTGuLyCQQY3z"
      },
      "outputs": [],
      "source": [
        "hola=\"mundo\"\n",
        "print(Hola)"
      ]
    },
    {
      "cell_type": "markdown",
      "metadata": {
        "id": "jGb7VZmRQxu7"
      },
      "source": [
        "---\n",
        "\n",
        "# Comentarios\n",
        "\n",
        "- **Comentarios de una línea**: se inician con `#`.\n",
        "- **Comentarios de múltiples líneas** (*docstrings*): se delimitan con tres comillas simples `'''` o dobles `\"\"\"`. Se utilizan para documentar **funciones**, **clases** y **módulos**."
      ]
    },
    {
      "cell_type": "code",
      "execution_count": 32,
      "metadata": {
        "colab": {
          "base_uri": "https://localhost:8080/"
        },
        "id": "wP021SziQyjC",
        "outputId": "1e36a28b-fff0-4766-a080-559108be23c1"
      },
      "outputs": [
        {
          "name": "stdout",
          "output_type": "stream",
          "text": [
            "Hola mundo\n"
          ]
        }
      ],
      "source": [
        "# Este es un comentario de una línea\n",
        "def mi_funcion():\n",
        "    \"\"\"\n",
        "    Este es un docstring.\n",
        "    Describe el funcionamiento de la función.\n",
        "    \"\"\"\n",
        "    pass\n",
        "\n",
        "print(\"Hola mundo\")  # Los comentarios terminan hasta el fin de linea"
      ]
    },
    {
      "cell_type": "code",
      "execution_count": 33,
      "metadata": {
        "id": "To89iSIYQ2NF"
      },
      "outputs": [],
      "source": [
        "mi_funcion()\n"
      ]
    },
    {
      "cell_type": "markdown",
      "metadata": {
        "id": "o-4OIOVHRMwL"
      },
      "source": [
        "---\n",
        "\n",
        "# Las líneas vacías se ignoran\n"
      ]
    },
    {
      "cell_type": "code",
      "execution_count": 34,
      "metadata": {
        "colab": {
          "base_uri": "https://localhost:8080/"
        },
        "id": "ZyTx4G0sRJHQ",
        "outputId": "e4af0f3e-ed23-4d83-c8f6-fc054786500b"
      },
      "outputs": [
        {
          "name": "stdout",
          "output_type": "stream",
          "text": [
            "Hola mundo\n"
          ]
        }
      ],
      "source": [
        "el_mundo_es_plano = True\n",
        "\n",
        "\n",
        "dos_mas_dos = 5\n",
        "\n",
        "print(\"Hola mundo\")"
      ]
    }
  ],
  "metadata": {
    "colab": {
      "provenance": []
    },
    "kernelspec": {
      "display_name": "Python 3",
      "name": "python3"
    },
    "language_info": {
      "codemirror_mode": {
        "name": "ipython",
        "version": 3
      },
      "file_extension": ".py",
      "mimetype": "text/x-python",
      "name": "python",
      "nbconvert_exporter": "python",
      "pygments_lexer": "ipython3",
      "version": "3.9.6"
    }
  },
  "nbformat": 4,
  "nbformat_minor": 0
}
