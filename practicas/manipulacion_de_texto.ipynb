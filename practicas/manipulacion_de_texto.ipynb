{
 "cells": [
  {
   "cell_type": "markdown",
   "metadata": {},
   "source": [
    "<a href=\"https://colab.research.google.com/github/misaelnieto/curso_python_itm_2025/blob/main/05_Tipos_de_datos_nume%CC%81ricos.ipynb\" target=\"_parent\"><img src=\"https://colab.research.google.com/assets/colab-badge.svg\" alt=\"Open In Colab\"/></a>\n"
   ]
  },
  {
   "cell_type": "markdown",
   "metadata": {},
   "source": [
    "\n",
    "# Aplicaciones web con Python\n",
    "\n",
    "## Manipulación de texto\n",
    "\n",
    "### 2005 - Instituto Tecnológico de Mexicali\n",
    "\n",
    "# Texto en Python\n",
    "\n",
    "- Sólo hay un tipo de datos para texto: `str`.\n",
    "  - ***Inmutable***\n",
    "  - Indexable (***slice***)\n",
    "- El texto se delimita por comillas simples (`'`) o comillas dobles (`\"`).\n",
    "- Múltiples líneas:\n",
    "  - `\\n`\n",
    "  - Delimitado por tres comillas simples/dobles: `'''` / `\"\"\"`\n",
    "- No hay tipo de datos para caracteres (`char`) debido a que por default, el codificado de texto en Python 3 es UTF-8 y ya no se puede asumir que un caracter tenga 8 bytes.\n",
    "\n",
    "---\n",
    "\n",
    "\n",
    "# Ejemplo 1"
   ]
  },
  {
   "cell_type": "code",
   "execution_count": null,
   "metadata": {},
   "outputs": [],
   "source": [
    "'' == str() == \"\""
   ]
  },
  {
   "cell_type": "code",
   "execution_count": null,
   "metadata": {},
   "outputs": [],
   "source": [
    "'hola mundo'"
   ]
  },
  {
   "cell_type": "code",
   "execution_count": null,
   "metadata": {},
   "outputs": [],
   "source": [
    "'Hola mundo'"
   ]
  },
  {
   "cell_type": "code",
   "execution_count": null,
   "metadata": {},
   "outputs": [],
   "source": [
    "\" ' \""
   ]
  },
  {
   "cell_type": "code",
   "execution_count": null,
   "metadata": {},
   "outputs": [],
   "source": [
    "'\"' == \"\\\"\""
   ]
  },
  {
   "cell_type": "code",
   "execution_count": null,
   "metadata": {},
   "outputs": [],
   "source": [
    "\"'\" == '\\''"
   ]
  },
  {
   "cell_type": "markdown",
   "metadata": {},
   "source": [
    "---\n",
    "\n",
    "# El texto tiene una longitud"
   ]
  },
  {
   "cell_type": "code",
   "execution_count": null,
   "metadata": {},
   "outputs": [],
   "source": [
    "cadena = \"longitud\"\n",
    "longitud = len(cadena)  # Resultado: 8\n",
    "print(longitud)"
   ]
  },
  {
   "cell_type": "markdown",
   "metadata": {},
   "source": [
    "\n",
    "<div class=\"columnas\">\n",
    "<div class=\"col\">\n",
    "\n",
    "| `P` | `e` | `r` | `a` |\n",
    "|---|---|---|---|\n",
    "| 0 | 1 | 2 | 3 |\n",
    "|-4 |-3 |-2 |-1 |\n",
    "\n",
    "</div>\n",
    "<div class=\"col\">\n",
    "De izquierda a derecha"
   ]
  },
  {
   "cell_type": "code",
   "execution_count": 10,
   "metadata": {},
   "outputs": [],
   "source": [
    "a = 'Pera'"
   ]
  },
  {
   "cell_type": "code",
   "execution_count": null,
   "metadata": {},
   "outputs": [],
   "source": [
    "a[0]"
   ]
  },
  {
   "cell_type": "code",
   "execution_count": null,
   "metadata": {},
   "outputs": [],
   "source": [
    "a[-1]"
   ]
  },
  {
   "cell_type": "markdown",
   "metadata": {},
   "source": [
    "</div>\n",
    "</div>\n",
    "\n",
    "---\n",
    "\n",
    "# El texto es inmutable"
   ]
  },
  {
   "cell_type": "code",
   "execution_count": null,
   "metadata": {},
   "outputs": [],
   "source": [
    "a = 'foo bar'\n",
    "a[2] = 'z'"
   ]
  },
  {
   "cell_type": "markdown",
   "metadata": {},
   "source": [
    "\n",
    "---\n",
    "\n",
    "# ¿Cómo modificar cadenas?\n",
    "\n",
    "<div class=\"columnas\">\n",
    "<div class=\"col\">\n",
    "\n",
    "- Usar `.replace()`"
   ]
  },
  {
   "cell_type": "code",
   "execution_count": null,
   "metadata": {},
   "outputs": [],
   "source": [
    "'Mansana'.replace('s', 'z')"
   ]
  },
  {
   "cell_type": "markdown",
   "metadata": {},
   "source": [
    "- Convertir a lista y luego a cadena"
   ]
  },
  {
   "cell_type": "code",
   "execution_count": null,
   "metadata": {},
   "outputs": [],
   "source": [
    "z = list('Mansana')\n",
    "z[3] = 'z'\n",
    "''.join(z)"
   ]
  },
  {
   "cell_type": "markdown",
   "metadata": {},
   "source": [
    "\n",
    "</div>\n",
    "<div class=\"col\">\n",
    "\n",
    "- Slicing"
   ]
  },
  {
   "cell_type": "code",
   "execution_count": null,
   "metadata": {},
   "outputs": [],
   "source": [
    "fruta = 'Mansana'\n",
    "fruta[:3] + 'z' + fruta[4:]"
   ]
  },
  {
   "cell_type": "markdown",
   "metadata": {},
   "source": [
    "\n",
    "</div>\n",
    "</div>\n",
    "\n",
    "\n",
    "---\n",
    "\n",
    "# Texto con líneas múltiples"
   ]
  },
  {
   "cell_type": "code",
   "execution_count": 2,
   "metadata": {},
   "outputs": [
    {
     "name": "stdout",
     "output_type": "stream",
     "text": [
      "\n",
      "Cadena con multiples lineas.\n",
      "Puede contener \" y ' sin problemas.\n",
      "\n"
     ]
    }
   ],
   "source": [
    "a = \"\"\"\n",
    "... Cadena con multiples lineas.\n",
    "... Puede contener \" y ' sin problemas.\n",
    "... \"\"\"\n",
    "print(a)"
   ]
  },
  {
   "cell_type": "markdown",
   "metadata": {},
   "source": [
    "\n",
    "---\n",
    "\n",
    "# Texto con acentos y caracteres especiales\n"
   ]
  },
  {
   "cell_type": "code",
   "execution_count": 3,
   "metadata": {},
   "outputs": [
    {
     "data": {
      "text/plain": [
       "'áéíóúñ⌚⏰✅'"
      ]
     },
     "execution_count": 3,
     "metadata": {},
     "output_type": "execute_result"
    }
   ],
   "source": [
    "'áéíóúñ⌚⏰✅'"
   ]
  },
  {
   "cell_type": "markdown",
   "metadata": {},
   "source": [
    "\n",
    "---\n",
    "\n",
    "# Concatenación \n",
    "\n",
    "Usando `+`"
   ]
  },
  {
   "cell_type": "code",
   "execution_count": 4,
   "metadata": {},
   "outputs": [
    {
     "name": "stdout",
     "output_type": "stream",
     "text": [
      "Hola Mundo\n"
     ]
    }
   ],
   "source": [
    "cadena1 = \"Hola\"\n",
    "cadena2 = \"Mundo\"\n",
    "resultado = cadena1 + \" \" + cadena2\n",
    "print(resultado)  # Resultado: \"Hola Mundo\""
   ]
  },
  {
   "cell_type": "markdown",
   "metadata": {},
   "source": [
    "\n",
    "---\n",
    "\n",
    "# Formateo (f-strings)\n",
    "\n",
    "Inserta variables directamente en la cadena.\n"
   ]
  },
  {
   "cell_type": "code",
   "execution_count": 5,
   "metadata": {},
   "outputs": [
    {
     "name": "stdout",
     "output_type": "stream",
     "text": [
      "Hola, me llamo Ana y tengo 30 años.\n"
     ]
    }
   ],
   "source": [
    "nombre = \"Ana\"\n",
    "edad = 30\n",
    "mensaje = f\"Hola, me llamo {nombre} y tengo {edad} años.\"\n",
    "print(mensaje)  # Resultado: \"Hola, me llamo Ana y tengo 30 años.\""
   ]
  },
  {
   "cell_type": "markdown",
   "metadata": {},
   "source": [
    "---\n",
    "\n",
    "# Repetición\n",
    "\n",
    "Repetir una cadena usando `*`"
   ]
  },
  {
   "cell_type": "code",
   "execution_count": 6,
   "metadata": {},
   "outputs": [
    {
     "name": "stdout",
     "output_type": "stream",
     "text": [
      "PythonPythonPython\n"
     ]
    }
   ],
   "source": [
    "cadena = \"Python\"\n",
    "resultado = cadena * 3\n",
    "print(resultado)  # Resultado: \"PythonPythonPython\""
   ]
  },
  {
   "cell_type": "markdown",
   "metadata": {},
   "source": [
    "\n",
    "---\n",
    "\n",
    "# Convertir a mayúsculas y minúsculas\n",
    "\n",
    "<div class=\"columnas\">\n",
    "<div class=\"col\">\n",
    "\n",
    "*   `.upper()`: A mayúsculas."
   ]
  },
  {
   "cell_type": "code",
   "execution_count": 7,
   "metadata": {},
   "outputs": [
    {
     "name": "stdout",
     "output_type": "stream",
     "text": [
      "HOLA\n"
     ]
    }
   ],
   "source": [
    "cadena = \"hola\"\n",
    "mayusculas = cadena.upper()\n",
    "print(mayusculas)  # Resultado: \"HOLA\""
   ]
  },
  {
   "cell_type": "markdown",
   "metadata": {},
   "source": [
    "\n",
    "*   `.lower()`: A minúsculas."
   ]
  },
  {
   "cell_type": "code",
   "execution_count": 8,
   "metadata": {},
   "outputs": [
    {
     "name": "stdout",
     "output_type": "stream",
     "text": [
      "adios\n"
     ]
    }
   ],
   "source": [
    "cadena = \"ADIOS\"\n",
    "minusculas = cadena.lower()\n",
    "print(minusculas)  # Resultado: \"adios\""
   ]
  },
  {
   "cell_type": "markdown",
   "metadata": {},
   "source": [
    "\n",
    "\n",
    "</div>\n",
    "<div class=\"col\">\n",
    "\n",
    "*   `.title()`: La primera letra a mayúsculas.\n"
   ]
  },
  {
   "cell_type": "code",
   "execution_count": 9,
   "metadata": {},
   "outputs": [
    {
     "name": "stdout",
     "output_type": "stream",
     "text": [
      "Adios\n"
     ]
    }
   ],
   "source": [
    "cadena = \"ADIOS\"\n",
    "title = cadena.title()\n",
    "print(title)  # Resultado: \"Adios\""
   ]
  },
  {
   "cell_type": "markdown",
   "metadata": {},
   "source": [
    "*   `.swapcase()`: Invertir mayúsculas/minúsculas."
   ]
  },
  {
   "cell_type": "code",
   "execution_count": 10,
   "metadata": {},
   "outputs": [
    {
     "name": "stdout",
     "output_type": "stream",
     "text": [
      "mANZANa\n"
     ]
    }
   ],
   "source": [
    "cadena = \"ManzanA\"\n",
    "print(\"ManzanA\".swapcase())  # Resultado: \"mANZANa\""
   ]
  },
  {
   "cell_type": "markdown",
   "metadata": {},
   "source": [
    "\n",
    "</div>\n",
    "</div>\n",
    "\n",
    "\n",
    "---\n",
    "\n",
    "# Otras operaciones\n",
    "\n",
    "*   `.strip()`: Quita espacios al inicio y final."
   ]
  },
  {
   "cell_type": "code",
   "execution_count": 11,
   "metadata": {},
   "outputs": [
    {
     "name": "stdout",
     "output_type": "stream",
     "text": [
      "espacios\n"
     ]
    }
   ],
   "source": [
    "cadena = \"   espacios   \"\n",
    "sin_espacios = cadena.strip()\n",
    "print(sin_espacios)"
   ]
  },
  {
   "cell_type": "markdown",
   "metadata": {},
   "source": [
    "\n",
    "*   `.replace(viejo, nuevo)`: Reemplaza una subcadena.\n"
   ]
  },
  {
   "cell_type": "code",
   "execution_count": 12,
   "metadata": {},
   "outputs": [
    {
     "name": "stdout",
     "output_type": "stream",
     "text": [
      "manzana roja\n"
     ]
    }
   ],
   "source": [
    "cadena = \"manzana verde\"\n",
    "nueva_cadena = cadena.replace(\"verde\", \"roja\")\n",
    "print(nueva_cadena)"
   ]
  },
  {
   "cell_type": "markdown",
   "metadata": {},
   "source": [
    "\n",
    "---\n",
    "\n",
    "# Otras operaciones\n",
    "\n",
    "*   `.split(separador)`: Divide la cadena en una list"
   ]
  },
  {
   "cell_type": "code",
   "execution_count": 14,
   "metadata": {},
   "outputs": [
    {
     "name": "stdout",
     "output_type": "stream",
     "text": [
      "['uno', 'dos', 'tres']\n"
     ]
    }
   ],
   "source": [
    "cadena = \"uno,dos,tres\"\n",
    "lista = cadena.split(\",\")\n",
    "print(lista) # Resultado: ['uno', 'dos', 'tres']"
   ]
  },
  {
   "cell_type": "markdown",
   "metadata": {},
   "source": [
    "*   `.join(iterable)`: Une una secuencia con un separador."
   ]
  },
  {
   "cell_type": "code",
   "execution_count": 18,
   "metadata": {},
   "outputs": [
    {
     "name": "stdout",
     "output_type": "stream",
     "text": [
      "a-b-c\n"
     ]
    }
   ],
   "source": [
    "lista = ['a', 'b', 'c']\n",
    "cadena = \"-\".join(lista)  # Resultado: \"a-b-c\"\n",
    "print(cadena)  # Resultado: \"a-b-c\""
   ]
  },
  {
   "cell_type": "markdown",
   "metadata": {},
   "source": [
    "\n",
    "---\n",
    "\n",
    "### Secuencias de escape\n",
    "\n",
    "*   `\\n`: Nueva línea.\n",
    "*   `\\t`: Tabulación.\n",
    "*   `\\\\`: Barra invertida.\n",
    "*   `\\'`: Comilla simple.\n",
    "*   `\\\"`: Comilla doble.\n",
    "\n",
    "---\n",
    "\n",
    "# Resúmen\n",
    "\n",
    "- Las cadenas de texto (strings) en Python representan secuencias inmutables de caracteres Unicode.\n",
    "- Se utilizan para almacenar y manipular texto, desde simples palabras hasta extensos párrafos.\n",
    "- Permiten operaciones como concatenación, formateo, búsqueda de subcadenas y conversión a mayúsculas/minúsculas.\n",
    "- Son esenciales para la entrada/salida de datos, procesamiento de texto y manipulación de información textual.\n",
    "\n",
    "---\n"
   ]
  }
 ],
 "metadata": {
  "kernelspec": {
   "display_name": "Python 3",
   "language": "python",
   "name": "python3"
  },
  "language_info": {
   "codemirror_mode": {
    "name": "ipython",
    "version": 3
   },
   "file_extension": ".py",
   "mimetype": "text/x-python",
   "name": "python",
   "nbconvert_exporter": "python",
   "pygments_lexer": "ipython3",
   "version": "3.9.6"
  }
 },
 "nbformat": 4,
 "nbformat_minor": 2
}
