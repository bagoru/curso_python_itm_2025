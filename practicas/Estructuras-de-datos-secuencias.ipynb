{
 "cells": [
  {
   "cell_type": "markdown",
   "metadata": {},
   "source": [
    "<a href=\"https://colab.research.google.com/github/misaelnieto/curso_python_itm_2025/blob/main/05_Tipos_de_datos_nume%CC%81ricos.ipynb\" target=\"_parent\"><img src=\"https://colab.research.google.com/assets/colab-badge.svg\" alt=\"Open In Colab\"/></a>"
   ]
  },
  {
   "cell_type": "markdown",
   "metadata": {},
   "source": [
    "\n",
    "# Estructuras de datos\n",
    "\n",
    "- ***Secuencia***: un conjunto ordenado de objetos\n",
    "  - tuplas (`tuple`)\n",
    "  - listas (`list`)\n",
    "  - texto (`str`)\n",
    "  - Datos binarios (`bytes`, `bytearray`)\n",
    "\n",
    "\n",
    "---\n",
    "\n",
    "# Operaciones comunes de secuencias\n",
    "\n",
    "Si el objeto es una secuencia, es muy probable que soporte estas operaciones (en orden de prioridad):\n",
    "\n",
    "|       Operación      |                                         Resultado                                         |\n",
    "|:--------------------:|:-----------------------------------------------------------------------------------------:|\n",
    "|        `x in s`      | **Pertenencia**: `True` si un elemento de `s` es igual a `x`, `False` en caso contrario.    |\n",
    "|      `x not in s`    | **No pertenencia**: `False` si un elemento de `s` es igual a `x`, `True` en caso contrario  |\n",
    "|        `s + t`       | **Concatenación** de `s` y `t`                                                              |\n",
    "|   `s * n` ó `n * s`  | **Repeticion**: equivalente a sumar o repetir `s` a sí mismo `n` veces                      |\n",
    "\n",
    "---\n",
    "\n",
    "# Operaciones comunes de secuencias\n",
    "\n",
    "\n",
    "|       Operación        |                                         Resultado                                         |\n",
    "|:----------------------:|:-----------------------------------------------------------------------------------------:|\n",
    "|         `s[i]`         | **Indexado**: i-ésimo elemento de `s`, origen `0`                          |\n",
    "|        `s[i:j]`        | **Rebanada**: Una sub-secuencia de `s` a partir del i-ésimo elemento `i` hasta `j`        |\n",
    "|       `s[i:j:k]`       | **Rebanada en pasos**:  `s` desde `i` hasta `j`, en pasos de tamaño `k`      |\n",
    "|        `len(s)`        |                                       **Longitud** de `s`                                   |\n",
    "|        `min(s)`        |                                 El elemento **más pequeño** de `s`                             |\n",
    "|        `max(s)`        |                                 El elemento **más grande de** `s`                             |\n",
    "\n",
    "\n",
    "---\n",
    "\n",
    "# Operaciones comunes de secuencias\n",
    "\n",
    "\n",
    "|       Operación        |                                         Resultado                                         |\n",
    "|:----------------------:|:-----------------------------------------------------------------------------------------:|\n",
    "| `s.index(x[, i[, j]])` | **Búsqueda**: índice de la primera aparición de `x` en `s` (en, o después del índice `i` y antes del índice `j`) |\n",
    "|      s.count(x)        | **Conteo de elementos**:  número total de apariciones de `x` en `s`                           |\n",
    "\n",
    "---\n",
    "\n",
    "# Ordenamiento y comparación en secuencias\n",
    "\n",
    "> Las secuencias ***del mismo tipo*** también admiten comparaciones. En particular, las tuplas y las listas se comparan lexicográficamente comparando los elementos correspondientes. Esto significa que, para que sean iguales, cada elemento debe ser igual y las dos secuencias deben ser del mismo tipo y tener la misma longitud. (Para obtener detalles completos, consulta la sección de [Comparaciones](https://docs.python.org/3/reference/expressions.html#comparisons) en la referencia del lenguaje).\n",
    "\n",
    "---\n",
    "\n",
    "# Desempaquetado (Unpacking)\n",
    "\n",
    "<div class=\"columnas\">\n",
    "<div class=\"col\">\n",
    "\n",
    "- El **desempaquetado** es la asignación de los elementos de una secuencia a variables individuales ***en un solo paso***, sin tener que acceder a sus elementos uno por uno."
   ]
  },
  {
   "cell_type": "code",
   "execution_count": 1,
   "metadata": {},
   "outputs": [
    {
     "name": "stdout",
     "output_type": "stream",
     "text": [
      "x=100, y=200\n"
     ]
    }
   ],
   "source": [
    "tupla = (100, 200)\n",
    "x, y = tupla\n",
    "print(f'x={x}, y={y}') # Imprime: x = 100, y = 200"
   ]
  },
  {
   "cell_type": "markdown",
   "metadata": {},
   "source": [
    "</div>\n",
    "<div class=\"col\">\n",
    "\n",
    "- El desempaquetado también funciona con un número variable de elementos usando el operador `*`:"
   ]
  },
  {
   "cell_type": "code",
   "execution_count": 4,
   "metadata": {},
   "outputs": [
    {
     "name": "stdout",
     "output_type": "stream",
     "text": [
      "primero=1, último=5, el resto = [2, 3, 4]\n"
     ]
    }
   ],
   "source": [
    "tupla = (1, 2, 3, 4, 5)\n",
    "primero, *resto, ultimo = tupla\n",
    "print(f'primero={primero}, último={ultimo}, el resto = {resto}')"
   ]
  },
  {
   "cell_type": "markdown",
   "metadata": {},
   "source": [
    "</div>\n",
    "</div>\n",
    "\n",
    "\n",
    "---\n",
    "\n",
    "# Tuplas\n",
    "\n",
    "> Una secuencia inmutable de objetos con un número ***limitado*** de elementos.\n",
    "> \n",
    "\n",
    "\n",
    "---\n",
    "\n",
    "# Creación de tuplas\n",
    "\n",
    "<div class=\"columnas\">\n",
    "<div class=\"col\">\n",
    "\n",
    "* Se definen usando paréntesis `()` o simplemente separando los elementos con comas.\n"
   ]
  },
  {
   "cell_type": "code",
   "execution_count": 8,
   "metadata": {},
   "outputs": [
    {
     "name": "stdout",
     "output_type": "stream",
     "text": [
      "(1, 2, 3)\n",
      "(4, 5, 6)\n",
      "(5,)\n"
     ]
    }
   ],
   "source": [
    "tupla1 = (1, 2, 3)\n",
    "tupla2 = 4, 5, 6  # Equivalente a (4, 5, 6)\n",
    "tupla_vacia = () # Tupla vacía\n",
    "tupla_un_elemento = (5,) # Tupla con un solo elemento. La coma es necesaria.\n",
    "print(tupla1)\n",
    "print(tupla2)\n",
    "print(tupla_un_elemento)"
   ]
  },
  {
   "cell_type": "markdown",
   "metadata": {},
   "source": [
    "</div>\n",
    "<div class=\"col\">\n",
    "\n",
    "- En Python, todo es un objeto, asi que las tuplas pueden contener elementos de cualquier tipo."
   ]
  },
  {
   "cell_type": "code",
   "execution_count": 9,
   "metadata": {},
   "outputs": [
    {
     "name": "stdout",
     "output_type": "stream",
     "text": [
      "(10, 'Hola', 3.14)\n",
      "<class 'tuple'>\n"
     ]
    }
   ],
   "source": [
    "  # Tupla con un entero, una cadena y un número de punto flotante\n",
    "  tupla_mixta1 = (10, \"Hola\", 3.14)\n",
    "  print(tupla_mixta1)  # Imprime: (10, 'Hola', 3.14)\n",
    "  print(type(tupla_mixta1)) # Imprime: <class 'tuple'>"
   ]
  },
  {
   "cell_type": "markdown",
   "metadata": {},
   "source": [
    "\n",
    "</div>\n",
    "</div>\n",
    "\n",
    "---\n",
    "\n",
    "# Las tuplas son **inmutables**\n",
    "\n",
    "Las tuplas son *inmutables*. Una vez creadas, no se pueden modificar sus elementos (no se pueden añadir, eliminar ni modificar elementos directamente)."
   ]
  },
  {
   "cell_type": "code",
   "execution_count": 10,
   "metadata": {},
   "outputs": [],
   "source": [
    "tupla = (1, 2, 3)\n",
    "tupla[0] = 10"
   ]
  },
  {
   "cell_type": "markdown",
   "metadata": {},
   "source": [
    "\n",
    "---\n",
    "\n",
    "# Pertenencia y no pertenencia"
   ]
  },
  {
   "cell_type": "code",
   "execution_count": 11,
   "metadata": {},
   "outputs": [],
   "source": [
    "tupla = (1, \"a\", 3.14)"
   ]
  },
  {
   "cell_type": "code",
   "execution_count": 12,
   "metadata": {},
   "outputs": [
    {
     "name": "stdout",
     "output_type": "stream",
     "text": [
      "True\n",
      "True\n",
      "False\n"
     ]
    }
   ],
   "source": [
    "print(1 in tupla)      \n",
    "print(\"a\" in tupla)     \n",
    "print(2 in tupla)      "
   ]
  },
  {
   "cell_type": "code",
   "execution_count": 13,
   "metadata": {},
   "outputs": [
    {
     "name": "stdout",
     "output_type": "stream",
     "text": [
      "False\n",
      "True\n",
      "True\n"
     ]
    }
   ],
   "source": [
    "print(1 not in tupla)  \n",
    "print(\"b\" not in tupla)\n",
    "print(2 not in tupla)  "
   ]
  },
  {
   "cell_type": "markdown",
   "metadata": {},
   "source": [
    "---\n",
    "\n",
    "# Concatenación\n",
    "\n",
    "Ya que las tuplas son *inmutables*, el operador `+` siempre crea nuevas tuplas a partir de otras.\n"
   ]
  },
  {
   "cell_type": "code",
   "execution_count": 14,
   "metadata": {},
   "outputs": [
    {
     "name": "stdout",
     "output_type": "stream",
     "text": [
      "(1, 2, 3, 4)\n",
      "4352271936\n",
      "4352258432\n",
      "4352395920\n"
     ]
    }
   ],
   "source": [
    "tupla1 = (1, 2)\n",
    "tupla2 = (3, 4)\n",
    "tupla_concatenada = tupla1 + tupla2\n",
    "print(tupla_concatenada)  # Imprime: (1, 2, 3, 4)\n",
    "print(id(tupla1))  # Imprime: 1732371591616 (es diferente en cada maquina)\n",
    "print(id(tupla2))  # Immprime: 1732371610688\n",
    "print(id(tupla_concatenada))  # Imprime 1732371564400"
   ]
  },
  {
   "cell_type": "markdown",
   "metadata": {},
   "source": [
    "---\n",
    "\n",
    "# Repetición\n",
    "\n",
    "Podemos repetir una tupla usando el operador `*`."
   ]
  },
  {
   "cell_type": "code",
   "execution_count": 15,
   "metadata": {},
   "outputs": [
    {
     "name": "stdout",
     "output_type": "stream",
     "text": [
      "('a', 'b', 'a', 'b', 'a', 'b')\n"
     ]
    }
   ],
   "source": [
    "tupla = ('a', 'b')\n",
    "tupla_repetida = tupla * 3\n",
    "print(tupla_repetida)  # Imprime: ('a', 'b', 'a', 'b', 'a', 'b')"
   ]
  },
  {
   "cell_type": "markdown",
   "metadata": {},
   "source": [
    "\n",
    "---\n",
    "\n",
    "# Rebanadas e índices\n",
    "\n",
    "*   **Acceso por índice:** Similar al texto, se accede a los elementos mediante su índice (comenzando desde 0)."
   ]
  },
  {
   "cell_type": "code",
   "execution_count": 17,
   "metadata": {},
   "outputs": [
    {
     "name": "stdout",
     "output_type": "stream",
     "text": [
      "primer_elemento=10, segundo_elemento=20\n"
     ]
    }
   ],
   "source": [
    "tupla = (10, 20, 30)\n",
    "primer_elemento = tupla[0]  \n",
    "segundo_elemento = tupla[1]  \n",
    "print(f'primer_elemento={primer_elemento}, segundo_elemento={segundo_elemento}')"
   ]
  },
  {
   "cell_type": "markdown",
   "metadata": {},
   "source": [
    "\n",
    "---\n",
    "\n",
    "# Tamaño de una tupla"
   ]
  },
  {
   "cell_type": "code",
   "execution_count": 19,
   "metadata": {},
   "outputs": [
    {
     "name": "stdout",
     "output_type": "stream",
     "text": [
      "4\n"
     ]
    }
   ],
   "source": [
    "tupla = (1, 2, 3, 4)\n",
    "longitud = len(tupla)  \n",
    "print(longitud)"
   ]
  },
  {
   "cell_type": "markdown",
   "metadata": {},
   "source": [
    "\n",
    "---\n",
    "\n",
    "\n",
    "# Maximos y minimos\n",
    "\n",
    "<div class=\"columnas\">\n",
    "<div class=\"col\">\n",
    "\n",
    "\n",
    "- **En números**"
   ]
  },
  {
   "cell_type": "code",
   "execution_count": 20,
   "metadata": {},
   "outputs": [
    {
     "name": "stdout",
     "output_type": "stream",
     "text": [
      "El máximo es: 9\n",
      "El mínimo es: 1\n"
     ]
    }
   ],
   "source": [
    "tupla = (5, 2, 8, 1, 9, 4)\n",
    "\n",
    "maximo = max(tupla)\n",
    "minimo = min(tupla)\n",
    "\n",
    "print(f\"El máximo es: {maximo}\")\n",
    "print(f\"El mínimo es: {minimo}\")"
   ]
  },
  {
   "cell_type": "markdown",
   "metadata": {},
   "source": [
    " La comparación entre números es por valor\n",
    "\n",
    "</div>\n",
    "<div class=\"col\">\n",
    "\n",
    "- **En cadenas**"
   ]
  },
  {
   "cell_type": "code",
   "execution_count": 22,
   "metadata": {},
   "outputs": [
    {
     "name": "stdout",
     "output_type": "stream",
     "text": [
      "La cadena máxima (alfabéticamente) es: manzana\n",
      "La cadena mínima (alfabéticamente) es: banana\n"
     ]
    }
   ],
   "source": [
    "tupla_cadenas = (\"manzana\", \"banana\", \"cereza\", \"dátil\")\n",
    "\n",
    "maximo = max(tupla_cadenas)  # Resultado: \"manzana\" (orden alfabético)\n",
    "minimo = min(tupla_cadenas)  # Resultado: \"banana\" (orden alfabético)\n",
    "\n",
    "print(f\"La cadena máxima (alfabéticamente) es: {maximo}\")\n",
    "print(f\"La cadena mínima (alfabéticamente) es: {minimo}\")"
   ]
  },
  {
   "cell_type": "markdown",
   "metadata": {},
   "source": [
    "  > La comparación entre cadenas es lexicográfica.\n",
    "  >\n",
    "\n",
    "</div>\n",
    "</div>\n",
    "\n",
    "---\n",
    "\n",
    "# Conteo de elementos en una tupla\n",
    "\n",
    "`count(elemento)` cuenta cuántas veces aparece un elemento en la tupla."
   ]
  },
  {
   "cell_type": "code",
   "execution_count": 23,
   "metadata": {},
   "outputs": [
    {
     "name": "stdout",
     "output_type": "stream",
     "text": [
      "3\n"
     ]
    }
   ],
   "source": [
    "tupla = (1, 2, 2, 3, 2)\n",
    "cantidad_de_dos = tupla.count(2)\n",
    "print(cantidad_de_dos)"
   ]
  },
  {
   "cell_type": "markdown",
   "metadata": {},
   "source": [
    "\n",
    "---\n",
    "\n",
    "# Búsqueda\n",
    "\n",
    "- `index(elemento)`: Devuelve el índice de la primera aparición de un elemento. \n"
   ]
  },
  {
   "cell_type": "code",
   "execution_count": 24,
   "metadata": {},
   "outputs": [
    {
     "name": "stdout",
     "output_type": "stream",
     "text": [
      "La letra b esta en el índice: 1\n"
     ]
    }
   ],
   "source": [
    "tupla = ('a', 'b', 'c')\n",
    "indice_de_b = tupla.index('b')\n",
    "print(f\"La letra b esta en el índice: {indice_de_b}\")\n",
    "# Imprime: La letra b esta en el índice: 1"
   ]
  },
  {
   "cell_type": "markdown",
   "metadata": {},
   "source": [
    "\n",
    "---\n",
    "\n",
    "\n",
    "# Listas\n",
    "\n",
    "\n",
    "> Una secuencia ***mutable*** de objetos con un número ***ilimitado*** de elementos.\n",
    "\n",
    "\n",
    "---\n",
    "\n",
    "# Creación de listas\n",
    "\n",
    "<div class=\"columnas\">\n",
    "<div class=\"col\">\n",
    "\n",
    "* Se definen usando corchetes `()` y separando los elementos con `,`.\n",
    "\n",
    "  ```python\n",
    "  lista1 = [1, 2, 3]\n",
    "  lista_vacia = [] # lista vacía\n",
    "  lista_un_elemento = [1,] # lista con un solo elemento. La coma es opcional.\n",
    "  ```\n",
    "\n",
    "</div>\n",
    "<div class=\"col\">\n",
    "\n",
    "- En Python, todo es un objeto, asi que las listas pueden contener elementos de cualquier tipo.\n"
   ]
  },
  {
   "cell_type": "markdown",
   "metadata": {},
   "source": [
    "\n",
    "---\n",
    "\n",
    "# Conteo de elementos en una lista\n",
    "\n",
    "`count(elemento)` cuenta cuántas veces aparece un elemento en la lista.\n"
   ]
  },
  {
   "cell_type": "markdown",
   "metadata": {},
   "source": []
  },
  {
   "cell_type": "code",
   "execution_count": 28,
   "metadata": {},
   "outputs": [
    {
     "name": "stdout",
     "output_type": "stream",
     "text": [
      "3\n"
     ]
    }
   ],
   "source": [
    "lista = [1, 2, 2, 3, 2]\n",
    "cantidad_de_dos = lista.count(2)\n",
    "print(cantidad_de_dos)  # Imprime: 3"
   ]
  },
  {
   "cell_type": "markdown",
   "metadata": {},
   "source": [
    "\n",
    "---\n",
    "\n",
    "# Búsqueda\n",
    "\n",
    "- `index(elemento)`: Devuelve el índice de la primera aparición de un elemento. "
   ]
  },
  {
   "cell_type": "code",
   "execution_count": 30,
   "metadata": {},
   "outputs": [
    {
     "name": "stdout",
     "output_type": "stream",
     "text": [
      "La letra b esta en el índice: 1\n"
     ]
    }
   ],
   "source": [
    "lista = ['a', 'b', 'c']\n",
    "indice_de_b = lista.index('b')\n",
    "print(f\"La letra b esta en el índice: {indice_de_b}\")"
   ]
  },
  {
   "cell_type": "markdown",
   "metadata": {},
   "source": []
  }
 ],
 "metadata": {
  "kernelspec": {
   "display_name": "Python 3",
   "language": "python",
   "name": "python3"
  },
  "language_info": {
   "codemirror_mode": {
    "name": "ipython",
    "version": 3
   },
   "file_extension": ".py",
   "mimetype": "text/x-python",
   "name": "python",
   "nbconvert_exporter": "python",
   "pygments_lexer": "ipython3",
   "version": "3.9.6"
  }
 },
 "nbformat": 4,
 "nbformat_minor": 2
}
