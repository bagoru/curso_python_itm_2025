{
  "cells": [
    {
      "cell_type": "markdown",
      "metadata": {
        "id": "view-in-github",
        "colab_type": "text"
      },
      "source": [
        "<a href=\"https://colab.research.google.com/github/misaelnieto/curso_python_itm_2025/blob/main/05_Tipos_de_datos_nume%CC%81ricos.ipynb\" target=\"_parent\"><img src=\"https://colab.research.google.com/assets/colab-badge.svg\" alt=\"Open In Colab\"/></a>"
      ]
    },
    {
      "cell_type": "markdown",
      "id": "1e4202ad-ca20-42d5-a460-5f8b588ad115",
      "metadata": {
        "panel-layout": {
          "height": 1094.4375,
          "visible": true,
          "width": 100
        },
        "id": "1e4202ad-ca20-42d5-a460-5f8b588ad115"
      },
      "source": [
        "\n",
        "# Aplicaciones web con Python\n",
        "\n",
        "## Enero 2025\n",
        "\n",
        "### Instituto Tecnológico de Mexicali\n",
        "\n",
        "---\n",
        "<!--\n",
        "theme: default\n",
        "paginate: true\n",
        "header: Aplicaciones web con Python\n",
        "footer: Instituto Tecnológico de Mexicali\n",
        "-->\n",
        "\n",
        "# Parte 3 - Sintaxis básica del lenguaje\n",
        "\n",
        "# Temario\n",
        "\n",
        "* El Zen de Python\n",
        "* Tipos de datos básicos.\n",
        "* Operadores matemáticos y logicos.\n",
        "* Todo es un objeto.\n",
        "* Estructuras de control.\n",
        "* Clases, métodos y funciones.\n",
        "\n",
        "---\n",
        "\n",
        "# El Zen de Python\n",
        "\n",
        "```python\n",
        ">>> import this\n",
        "The Zen of Python, by Tim Peters\n",
        "Beautiful is better than ugly.\n",
        "Explicit is better than implicit.\n",
        "Simple is better than complex.\n",
        "Complex is better than complicated.\n",
        "Flat is better than nested.\n",
        "Sparse is better than dense.\n",
        "Readability counts.\n",
        "Special cases aren't special enough to break the rules.\n",
        "Although practicality beats purity.\n",
        "Errors should never pass silently.\n",
        "Unless explicitly silenced.\n",
        "In the face of ambiguity, refuse the temptation to guess.\n",
        "There should be one-- and preferably only one --obvious way to do it.\n",
        "Although that way may not be obvious at first unless you're Dutch.\n",
        "Now is better than never.\n",
        "Although never is often better than *right* now.\n",
        "If the implementation is hard to explain, it's a bad idea.\n",
        "If the implementation is easy to explain, it may be a good idea.\n",
        "Namespaces are one honking great idea -- let's do more of those!\n",
        ">>>\n",
        "```\n",
        "---\n",
        "\n",
        "# Tipos de datos básicos: **números**\n",
        "\n",
        "* Entero\n",
        "  * Booleano\n",
        "  * Octal\n",
        "  * Hexadecimal\n",
        "  * Binario\n",
        "* Coma flotante\n",
        "  * Numeros complejos\n",
        "\n",
        "---\n",
        "\n",
        "# Tipos de datos básicos: **números enteros**\n",
        "\n",
        "## int"
      ]
    },
    {
      "cell_type": "code",
      "execution_count": 1,
      "id": "b90c29d1-da22-48f4-8c87-f9035d3bfc2f",
      "metadata": {
        "panel-layout": {
          "height": 27.140625,
          "visible": true,
          "width": 100
        },
        "colab": {
          "base_uri": "https://localhost:8080/"
        },
        "id": "b90c29d1-da22-48f4-8c87-f9035d3bfc2f",
        "outputId": "f7ed9108-a77b-489a-eeab-b13d0a70a327"
      },
      "outputs": [
        {
          "output_type": "execute_result",
          "data": {
            "text/plain": [
              "True"
            ]
          },
          "metadata": {},
          "execution_count": 1
        }
      ],
      "source": [
        "100 == int(100)"
      ]
    },
    {
      "cell_type": "markdown",
      "id": "c44f8584-56a6-432b-b7b6-f22402269902",
      "metadata": {
        "panel-layout": {
          "height": 168.15625,
          "visible": true,
          "width": 100
        },
        "id": "c44f8584-56a6-432b-b7b6-f22402269902"
      },
      "source": [
        "\n",
        "> **Notas**:\n",
        "> - En Python 3 desapareció la distinción entre enteros largos y cortos o enteros sin signo o con signo. Internamente, el intérprete limita el tamaño de un número entero basado en el tamaño de la memoria virtual disponible en el sistema. Para las operaciones shift y mask el intérprete asume una representación binaria.\n",
        "[Fuente](https://docs.python.org/3/reference/datamodel.html#numbers-integral).\n",
        "\n",
        "---\n",
        "\n",
        "# Tipos de datos básicos: **`bool`**\n"
      ]
    },
    {
      "cell_type": "code",
      "execution_count": null,
      "id": "06341400-b540-4421-a61c-ee29075ebf66",
      "metadata": {
        "panel-layout": {
          "height": 27.140625,
          "visible": true,
          "width": 100
        },
        "id": "06341400-b540-4421-a61c-ee29075ebf66",
        "outputId": "ddbe28bb-5f85-44cc-9779-721bd96c7844"
      },
      "outputs": [
        {
          "data": {
            "text/plain": [
              "True"
            ]
          },
          "execution_count": 8,
          "metadata": {},
          "output_type": "execute_result"
        }
      ],
      "source": [
        "True == bool(True) == 1"
      ]
    },
    {
      "cell_type": "code",
      "execution_count": null,
      "id": "5655d6ab-6fd1-4e73-bc9a-f880eebb3fbd",
      "metadata": {
        "panel-layout": {
          "height": 27.140625,
          "visible": true,
          "width": 100
        },
        "id": "5655d6ab-6fd1-4e73-bc9a-f880eebb3fbd",
        "outputId": "56617658-39fd-4c09-f9fe-e4d2d92c9446"
      },
      "outputs": [
        {
          "data": {
            "text/plain": [
              "False"
            ]
          },
          "execution_count": 10,
          "metadata": {},
          "output_type": "execute_result"
        }
      ],
      "source": [
        "True == bool(False) == bool(0)"
      ]
    },
    {
      "cell_type": "markdown",
      "id": "24aa0ba0-bcf0-4c59-9551-62638b4bef63",
      "metadata": {
        "panel-layout": {
          "height": 105.734375,
          "visible": true,
          "width": 100
        },
        "id": "24aa0ba0-bcf0-4c59-9551-62638b4bef63"
      },
      "source": [
        "\n",
        "> **Nota**: El intérprete de Python representa internamente a los números booleanos como `0` (`False`) o `1` (`True`).\n",
        "\n",
        "---\n",
        "\n",
        "# Tipos de datos básicos: **`oct`**"
      ]
    },
    {
      "cell_type": "code",
      "execution_count": null,
      "id": "9d7120dd-d82c-4d45-9cd5-49376c639310",
      "metadata": {
        "panel-layout": {
          "height": 27.140625,
          "visible": true,
          "width": 100
        },
        "id": "9d7120dd-d82c-4d45-9cd5-49376c639310",
        "outputId": "9d85f21e-6b08-4250-d961-9db9d03c185b"
      },
      "outputs": [
        {
          "data": {
            "text/plain": [
              "True"
            ]
          },
          "execution_count": 13,
          "metadata": {},
          "output_type": "execute_result"
        }
      ],
      "source": [
        "0o10 == 0O10"
      ]
    },
    {
      "cell_type": "code",
      "execution_count": null,
      "id": "cc314468-d289-44f4-8a52-ecce6e49e16d",
      "metadata": {
        "panel-layout": {
          "height": 27.140625,
          "visible": true,
          "width": 100
        },
        "id": "cc314468-d289-44f4-8a52-ecce6e49e16d",
        "outputId": "519ab444-c003-4b0c-dd4c-cac83e48a364"
      },
      "outputs": [
        {
          "data": {
            "text/plain": [
              "True"
            ]
          },
          "execution_count": 15,
          "metadata": {},
          "output_type": "execute_result"
        }
      ],
      "source": [
        "10 == 10.0 == 0o12"
      ]
    },
    {
      "cell_type": "markdown",
      "id": "e98e22ca-edfd-4402-ac89-0744d6951c9b",
      "metadata": {
        "panel-layout": {
          "height": 105.734375,
          "visible": true,
          "width": 100
        },
        "id": "e98e22ca-edfd-4402-ac89-0744d6951c9b"
      },
      "source": [
        "\n",
        "> **Nota**: El intérprete de Python representa internamente a los números `oct` como enteros.\n",
        "\n",
        "---\n",
        "\n",
        "# Tipos de datos básicos: **`hex`**\n"
      ]
    },
    {
      "cell_type": "code",
      "execution_count": null,
      "id": "7da7aa8a-9df4-4494-acb3-1d338dec5868",
      "metadata": {
        "panel-layout": {
          "height": 27.140625,
          "visible": true,
          "width": 100
        },
        "id": "7da7aa8a-9df4-4494-acb3-1d338dec5868",
        "outputId": "b182cc42-b1ec-4fb2-d82e-9c64c79963be"
      },
      "outputs": [
        {
          "data": {
            "text/plain": [
              "True"
            ]
          },
          "execution_count": 20,
          "metadata": {},
          "output_type": "execute_result"
        }
      ],
      "source": [
        "0x0a == 0x0A == 0X0a == 0X0A"
      ]
    },
    {
      "cell_type": "code",
      "execution_count": null,
      "id": "2a1fabaa-b870-4a8e-be3d-8de81f2addc0",
      "metadata": {
        "id": "2a1fabaa-b870-4a8e-be3d-8de81f2addc0",
        "outputId": "7900ae95-5bc7-44ba-883a-c4aa1333cbf0"
      },
      "outputs": [
        {
          "data": {
            "text/plain": [
              "True"
            ]
          },
          "execution_count": 22,
          "metadata": {},
          "output_type": "execute_result"
        }
      ],
      "source": [
        " 10 == 10.0 == 0o12 == 0x0a"
      ]
    },
    {
      "cell_type": "markdown",
      "id": "6f43615d-e4f8-4aa9-8bea-456771186fa9",
      "metadata": {
        "panel-layout": {
          "height": 105.734375,
          "visible": true,
          "width": 100
        },
        "id": "6f43615d-e4f8-4aa9-8bea-456771186fa9"
      },
      "source": [
        "> **Nota**: El intérprete de Python representa internamente a los números `oct` como enteros.\n",
        "\n",
        "\n",
        "---\n",
        "# Tipos de datos básicos: **`bin`**"
      ]
    },
    {
      "cell_type": "code",
      "execution_count": null,
      "id": "f27a7b91-8869-437a-9739-a4f049a2571f",
      "metadata": {
        "panel-layout": {
          "height": 27.140625,
          "visible": true,
          "width": 100
        },
        "id": "f27a7b91-8869-437a-9739-a4f049a2571f",
        "outputId": "4af20803-6da4-4818-b5d6-40809c30a3c4"
      },
      "outputs": [
        {
          "data": {
            "text/plain": [
              "True"
            ]
          },
          "execution_count": 27,
          "metadata": {},
          "output_type": "execute_result"
        }
      ],
      "source": [
        "0b1010 == 0B1010"
      ]
    },
    {
      "cell_type": "code",
      "execution_count": null,
      "id": "82bca854-f8e4-4381-9488-e6cb9f5c7859",
      "metadata": {
        "panel-layout": {
          "height": 27.140625,
          "visible": true,
          "width": 100
        },
        "id": "82bca854-f8e4-4381-9488-e6cb9f5c7859",
        "outputId": "fb69bdf0-b2b7-48c3-b0bb-2464b41f6a70"
      },
      "outputs": [
        {
          "data": {
            "text/plain": [
              "True"
            ]
          },
          "execution_count": 29,
          "metadata": {},
          "output_type": "execute_result"
        }
      ],
      "source": [
        "10 == 10.0 == 0o12 == 0x0a == 0b1010"
      ]
    },
    {
      "cell_type": "markdown",
      "id": "545ee0c2-5dda-4d80-9135-9e0a24d965c0",
      "metadata": {
        "panel-layout": {
          "height": 69.59375,
          "visible": true,
          "width": 100
        },
        "id": "545ee0c2-5dda-4d80-9135-9e0a24d965c0"
      },
      "source": [
        "---\n",
        "\n",
        "# Tipos de datos básicos: **`float`**"
      ]
    },
    {
      "cell_type": "code",
      "execution_count": null,
      "id": "8bb13052-79ee-4518-bf3a-af472fe8f170",
      "metadata": {
        "panel-layout": {
          "height": 27.140625,
          "visible": true,
          "width": 100
        },
        "id": "8bb13052-79ee-4518-bf3a-af472fe8f170",
        "outputId": "672c10b0-1c49-4291-97f2-060c751e78c1"
      },
      "outputs": [
        {
          "data": {
            "text/plain": [
              "True"
            ]
          },
          "execution_count": 33,
          "metadata": {},
          "output_type": "execute_result"
        }
      ],
      "source": [
        "100.1 == float (100.1)"
      ]
    },
    {
      "cell_type": "code",
      "execution_count": null,
      "id": "efdf7e93-e92e-4cd0-9368-fff498f5ae14",
      "metadata": {
        "panel-layout": {
          "height": 27.140625,
          "visible": true,
          "width": 100
        },
        "id": "efdf7e93-e92e-4cd0-9368-fff498f5ae14",
        "outputId": "3966979e-4e5a-4247-a331-ad779528110f"
      },
      "outputs": [
        {
          "data": {
            "text/plain": [
              "True"
            ]
          },
          "execution_count": 35,
          "metadata": {},
          "output_type": "execute_result"
        }
      ],
      "source": [
        "100.0 == 100"
      ]
    },
    {
      "cell_type": "markdown",
      "id": "1cece26d-a8d0-497e-b9f7-89bf7e04a099",
      "metadata": {
        "panel-layout": {
          "height": 123.875,
          "visible": true,
          "width": 100
        },
        "id": "1cece26d-a8d0-497e-b9f7-89bf7e04a099"
      },
      "source": [
        "\n",
        "> - Implementados como `double` en `C`\n",
        "> - Los detalles de precisión y representación interna están disponibles en `sys.float_info`\n",
        "\n",
        "---\n",
        "\n",
        "# Tipos de datos básicos: **`sys.float_info`**"
      ]
    },
    {
      "cell_type": "markdown",
      "id": "f7fc4429-9d89-4a84-91b9-c302f9c2e608",
      "metadata": {
        "panel-layout": {
          "height": 262.546875,
          "visible": true,
          "width": 100
        },
        "id": "f7fc4429-9d89-4a84-91b9-c302f9c2e608"
      },
      "source": [
        "```python\n",
        ">>> import sys\n",
        ">>> sys.float_info\n",
        "sys.float_info(\n",
        "    max=1.7976931348623157e+308,\n",
        "    max_exp=1024, max_10_exp=308,\n",
        "    min=2.2250738585072014e-308, min_exp=-1021,\n",
        "    min_10_exp=-307, dig=15,\n",
        "    mant_dig=53, epsilon=2.220446049250313e-16,\n",
        "    radix=2, rounds=1\n",
        ")\n",
        ">>>\n",
        "```"
      ]
    },
    {
      "cell_type": "markdown",
      "id": "bcc63a8f-bddc-43d4-82bf-ddd3e3f05aa6",
      "metadata": {
        "panel-layout": {
          "height": 68.59375,
          "visible": true,
          "width": 100
        },
        "id": "bcc63a8f-bddc-43d4-82bf-ddd3e3f05aa6"
      },
      "source": [
        "\n",
        "---\n",
        "\n",
        "# Tipos de datos básicos: **números complejos**\n"
      ]
    },
    {
      "cell_type": "code",
      "execution_count": null,
      "id": "562c4db9-da9f-4a6e-a24c-4dee352c0e92",
      "metadata": {
        "panel-layout": {
          "height": 27.140625,
          "visible": true,
          "width": 100
        },
        "id": "562c4db9-da9f-4a6e-a24c-4dee352c0e92",
        "outputId": "3cf237f6-583b-4861-d8d2-32735ba15350"
      },
      "outputs": [
        {
          "data": {
            "text/plain": [
              "True"
            ]
          },
          "execution_count": 40,
          "metadata": {},
          "output_type": "execute_result"
        }
      ],
      "source": [
        "1 + 2j == (1 + 2j) == complex(1,2)"
      ]
    },
    {
      "cell_type": "code",
      "execution_count": null,
      "id": "2a9a99d8-087a-4f54-923b-a80a9f97193b",
      "metadata": {
        "panel-layout": {
          "height": 27.140625,
          "visible": true,
          "width": 100
        },
        "id": "2a9a99d8-087a-4f54-923b-a80a9f97193b",
        "outputId": "492b9b50-e879-40f0-f6b2-579d48b2ca48"
      },
      "outputs": [
        {
          "data": {
            "text/plain": [
              "True"
            ]
          },
          "execution_count": 44,
          "metadata": {},
          "output_type": "execute_result"
        }
      ],
      "source": [
        "10 == 10.0  == 0o12 == 0x0a == (10 +0j)"
      ]
    },
    {
      "cell_type": "code",
      "execution_count": null,
      "id": "2ba63087-f927-4a49-bb30-ff91c484a312",
      "metadata": {
        "panel-layout": {
          "height": 0,
          "visible": true,
          "width": 100
        },
        "id": "2ba63087-f927-4a49-bb30-ff91c484a312",
        "outputId": "ddd8cae3-8bfa-4aa3-8e1f-c16fbccf6202"
      },
      "outputs": [
        {
          "name": "stdout",
          "output_type": "stream",
          "text": [
            "True\n"
          ]
        }
      ],
      "source": [
        "# Check if various representations of the number 10 are equal\n",
        "is_equal = (\n",
        "    10 == 10.0 and\n",
        "    10 == 0o12 and\n",
        "    10 == 0x0A and\n",
        "    10 == (10 + 0j)\n",
        ")\n",
        "\n",
        "print(is_equal)"
      ]
    },
    {
      "cell_type": "markdown",
      "id": "573e6038-dd47-472d-b227-6dbf273fed4a",
      "metadata": {
        "panel-layout": {
          "height": 52.140625,
          "visible": true,
          "width": 100
        },
        "id": "573e6038-dd47-472d-b227-6dbf273fed4a"
      },
      "source": [
        "> **Nota**: La parte real y la parte imaginaria son `float`"
      ]
    },
    {
      "cell_type": "code",
      "execution_count": null,
      "id": "b415bdf6-06f6-4f08-8436-559dba8def53",
      "metadata": {
        "id": "b415bdf6-06f6-4f08-8436-559dba8def53"
      },
      "outputs": [],
      "source": [
        "t = (1, 2, 3, 4)"
      ]
    },
    {
      "cell_type": "code",
      "execution_count": null,
      "id": "65560ead-7495-495a-af47-d1cdc9fb2a16",
      "metadata": {
        "id": "65560ead-7495-495a-af47-d1cdc9fb2a16",
        "outputId": "3aa69200-c889-47d4-d06e-fb8a287e625d"
      },
      "outputs": [
        {
          "data": {
            "text/plain": [
              "1"
            ]
          },
          "execution_count": 9,
          "metadata": {},
          "output_type": "execute_result"
        }
      ],
      "source": [
        "t[0]"
      ]
    },
    {
      "cell_type": "code",
      "execution_count": null,
      "id": "831cea94-ec13-4894-a8ac-66f8370ce6c8",
      "metadata": {
        "id": "831cea94-ec13-4894-a8ac-66f8370ce6c8",
        "outputId": "b160ab48-39dc-4f6a-ed7d-48cdd80805e6"
      },
      "outputs": [
        {
          "data": {
            "text/plain": [
              "4"
            ]
          },
          "execution_count": 11,
          "metadata": {},
          "output_type": "execute_result"
        }
      ],
      "source": [
        "t[3]"
      ]
    },
    {
      "cell_type": "code",
      "execution_count": null,
      "id": "fe4cdeab-b517-4c8b-8c99-3d0bdc47af6c",
      "metadata": {
        "id": "fe4cdeab-b517-4c8b-8c99-3d0bdc47af6c",
        "outputId": "9e8a24ee-6656-443c-fe39-9b2cb3229fb3"
      },
      "outputs": [
        {
          "data": {
            "text/plain": [
              "(2, 3)"
            ]
          },
          "execution_count": 13,
          "metadata": {},
          "output_type": "execute_result"
        }
      ],
      "source": [
        "t[1:3]"
      ]
    },
    {
      "cell_type": "code",
      "execution_count": null,
      "id": "112251dd-8954-4529-91b1-f5d83395e5ed",
      "metadata": {
        "id": "112251dd-8954-4529-91b1-f5d83395e5ed",
        "outputId": "fea885b9-f36b-4aef-9df4-5725f676495a"
      },
      "outputs": [
        {
          "data": {
            "text/plain": [
              "2"
            ]
          },
          "execution_count": 15,
          "metadata": {},
          "output_type": "execute_result"
        }
      ],
      "source": [
        "t[1]"
      ]
    }
  ],
  "metadata": {
    "kernelspec": {
      "display_name": "Python [conda env:base] *",
      "language": "python",
      "name": "conda-base-py"
    },
    "language_info": {
      "codemirror_mode": {
        "name": "ipython",
        "version": 3
      },
      "file_extension": ".py",
      "mimetype": "text/x-python",
      "name": "python",
      "nbconvert_exporter": "python",
      "pygments_lexer": "ipython3",
      "version": "3.12.7"
    },
    "panel-cell-order": [
      "1e4202ad-ca20-42d5-a460-5f8b588ad115",
      "b90c29d1-da22-48f4-8c87-f9035d3bfc2f",
      "c44f8584-56a6-432b-b7b6-f22402269902",
      "06341400-b540-4421-a61c-ee29075ebf66",
      "5655d6ab-6fd1-4e73-bc9a-f880eebb3fbd",
      "24aa0ba0-bcf0-4c59-9551-62638b4bef63",
      "9d7120dd-d82c-4d45-9cd5-49376c639310",
      "cc314468-d289-44f4-8a52-ecce6e49e16d",
      "e98e22ca-edfd-4402-ac89-0744d6951c9b",
      "7da7aa8a-9df4-4494-acb3-1d338dec5868",
      "6f43615d-e4f8-4aa9-8bea-456771186fa9",
      "f27a7b91-8869-437a-9739-a4f049a2571f",
      "82bca854-f8e4-4381-9488-e6cb9f5c7859",
      "545ee0c2-5dda-4d80-9135-9e0a24d965c0",
      "8bb13052-79ee-4518-bf3a-af472fe8f170",
      "efdf7e93-e92e-4cd0-9368-fff498f5ae14",
      "1cece26d-a8d0-497e-b9f7-89bf7e04a099",
      "f7fc4429-9d89-4a84-91b9-c302f9c2e608",
      "bcc63a8f-bddc-43d4-82bf-ddd3e3f05aa6",
      "562c4db9-da9f-4a6e-a24c-4dee352c0e92",
      "2a9a99d8-087a-4f54-923b-a80a9f97193b",
      "2ba63087-f927-4a49-bb30-ff91c484a312",
      "573e6038-dd47-472d-b227-6dbf273fed4a"
    ],
    "colab": {
      "provenance": [],
      "toc_visible": true,
      "include_colab_link": true
    }
  },
  "nbformat": 4,
  "nbformat_minor": 5
}